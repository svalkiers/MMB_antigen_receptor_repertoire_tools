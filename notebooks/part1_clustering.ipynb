{
 "cells": [
  {
   "cell_type": "markdown",
   "id": "f7b63fc6-de2e-4ad5-b4f1-8c62fb8404e6",
   "metadata": {},
   "source": [
    "# **PART 1:** Clustering TCR repertoires using ClusTCR"
   ]
  },
  {
   "cell_type": "code",
   "execution_count": 1,
   "id": "c72398ad-a424-480c-b7c2-65538e8d1c8e",
   "metadata": {},
   "outputs": [],
   "source": [
    "import os\n",
    "# Set the working directory to the repository directory\n",
    "os.chdir(\"/home/sebastiaan/PhD/Repositories/book_chapter/\")"
   ]
  },
  {
   "cell_type": "markdown",
   "id": "91dabbb9-086e-44e9-9652-952fb55ef1ff",
   "metadata": {},
   "source": [
    "For this part of the tutorial, we will need the `pandas` library, which allows easy handling of our data. In addition, we will using the `clustcr` package to perform clustering on the data."
   ]
  },
  {
   "cell_type": "code",
   "execution_count": 2,
   "id": "ec26b2de-f4c4-4c3e-adb9-4ee028f1cff7",
   "metadata": {},
   "outputs": [
    {
     "name": "stderr",
     "output_type": "stream",
     "text": [
      "/home/sebastiaan/miniconda3/envs/clustcr/lib/python3.8/site-packages/tqdm/auto.py:22: TqdmWarning: IProgress not found. Please update jupyter and ipywidgets. See https://ipywidgets.readthedocs.io/en/stable/user_install.html\n",
      "  from .autonotebook import tqdm as notebook_tqdm\n"
     ]
    }
   ],
   "source": [
    "# pandas for data handling\n",
    "import pandas as pd\n",
    "# clustcr for data clustering\n",
    "from clustcr import Clustering"
   ]
  },
  {
   "cell_type": "code",
   "execution_count": 3,
   "id": "97d29b4a-140f-4c30-a7c0-722f680a6e73",
   "metadata": {},
   "outputs": [
    {
     "data": {
      "text/html": [
       "<div>\n",
       "<style scoped>\n",
       "    .dataframe tbody tr th:only-of-type {\n",
       "        vertical-align: middle;\n",
       "    }\n",
       "\n",
       "    .dataframe tbody tr th {\n",
       "        vertical-align: top;\n",
       "    }\n",
       "\n",
       "    .dataframe thead th {\n",
       "        text-align: right;\n",
       "    }\n",
       "</style>\n",
       "<table border=\"1\" class=\"dataframe\">\n",
       "  <thead>\n",
       "    <tr style=\"text-align: right;\">\n",
       "      <th></th>\n",
       "      <th>v_call</th>\n",
       "      <th>j_call</th>\n",
       "      <th>junction_aa</th>\n",
       "      <th>duplicate_count</th>\n",
       "      <th>frequency</th>\n",
       "    </tr>\n",
       "  </thead>\n",
       "  <tbody>\n",
       "    <tr>\n",
       "      <th>0</th>\n",
       "      <td>TRBV6-2</td>\n",
       "      <td>TRBJ2-1</td>\n",
       "      <td>CASSNSDRTYGDNEQFF</td>\n",
       "      <td>33422.0</td>\n",
       "      <td>0.012504</td>\n",
       "    </tr>\n",
       "    <tr>\n",
       "      <th>1</th>\n",
       "      <td>TRBV24-1</td>\n",
       "      <td>TRBJ2-5</td>\n",
       "      <td>CATSSVLTQQETQYF</td>\n",
       "      <td>24502.0</td>\n",
       "      <td>0.009166</td>\n",
       "    </tr>\n",
       "    <tr>\n",
       "      <th>2</th>\n",
       "      <td>TRBV12-3</td>\n",
       "      <td>TRBJ2-3</td>\n",
       "      <td>CASSSRGLANTQYF</td>\n",
       "      <td>22361.0</td>\n",
       "      <td>0.008366</td>\n",
       "    </tr>\n",
       "    <tr>\n",
       "      <th>3</th>\n",
       "      <td>TRBV29-1</td>\n",
       "      <td>TRBJ2-7</td>\n",
       "      <td>CSVVGADTYEQYF</td>\n",
       "      <td>20930.0</td>\n",
       "      <td>0.007830</td>\n",
       "    </tr>\n",
       "    <tr>\n",
       "      <th>4</th>\n",
       "      <td>TRBV7-8</td>\n",
       "      <td>TRBJ1-1</td>\n",
       "      <td>CASSLGTALNTEAFF</td>\n",
       "      <td>20193.0</td>\n",
       "      <td>0.007554</td>\n",
       "    </tr>\n",
       "  </tbody>\n",
       "</table>\n",
       "</div>"
      ],
      "text/plain": [
       "     v_call   j_call        junction_aa  duplicate_count  frequency\n",
       "0   TRBV6-2  TRBJ2-1  CASSNSDRTYGDNEQFF          33422.0   0.012504\n",
       "1  TRBV24-1  TRBJ2-5    CATSSVLTQQETQYF          24502.0   0.009166\n",
       "2  TRBV12-3  TRBJ2-3     CASSSRGLANTQYF          22361.0   0.008366\n",
       "3  TRBV29-1  TRBJ2-7      CSVVGADTYEQYF          20930.0   0.007830\n",
       "4   TRBV7-8  TRBJ1-1    CASSLGTALNTEAFF          20193.0   0.007554"
      ]
     },
     "execution_count": 3,
     "metadata": {},
     "output_type": "execute_result"
    }
   ],
   "source": [
    "# Import the data\n",
    "data = pd.read_csv(\"./data/examples/P1_0.tsv\", sep = \"\\t\")\n",
    "data.head()"
   ]
  },
  {
   "cell_type": "markdown",
   "id": "7ef60954-d167-4480-9438-a37f0d2c566f",
   "metadata": {},
   "source": [
    "The ClusTCR syntax is similar to that of `scikit-learn`. First we start by configuring the clustering model. In this case we will use the default parameters, except for the number of CPUs, which we set to 16 here. \n",
    "\n",
    "***HINT**: You can use the `multiprocessing` package to check the number of CPUs available on your device, via the `cpu_count` function. You can set the number of CPUs equal to the output of this function.*\n",
    "\n",
    "We want to include the V gene into the clustering procedure. In order for this to happen, we need to specificy it during the data fitting process."
   ]
  },
  {
   "cell_type": "code",
   "execution_count": 4,
   "id": "2ba5c8c7-de86-4f5b-a686-dce6b07e5dd0",
   "metadata": {},
   "outputs": [
    {
     "name": "stdout",
     "output_type": "stream",
     "text": [
      "Total time to run ClusTCR: 84.050s\n"
     ]
    }
   ],
   "source": [
    "from multiprocessing import cpu_count\n",
    "# Initiate the Clustering object \n",
    "# Here we set n_cpus equal to the number of available CPUs\n",
    "clustering = Clustering(n_cpus = cpu_count())\n",
    "# Fit the data\n",
    "results = clustering.fit(\n",
    "    data = data,\n",
    "    include_vgene = True,\n",
    "    cdr3_col = \"junction_aa\",\n",
    "    v_gene_col = \"v_call\"\n",
    "    )"
   ]
  },
  {
   "cell_type": "markdown",
   "id": "e18c0039-c0c5-40b8-bca0-c88bea75280c",
   "metadata": {},
   "source": [
    "After running the algorithm, ClusTCR generates a ClusteringResult object, which holds different properties of the generated clusters. To view which TCRs belong to which cluster, you can access the `clusters_df` property."
   ]
  },
  {
   "cell_type": "code",
   "execution_count": 6,
   "id": "fb224c20-705a-4813-9554-6ae80a169afb",
   "metadata": {},
   "outputs": [
    {
     "data": {
      "text/html": [
       "<div>\n",
       "<style scoped>\n",
       "    .dataframe tbody tr th:only-of-type {\n",
       "        vertical-align: middle;\n",
       "    }\n",
       "\n",
       "    .dataframe tbody tr th {\n",
       "        vertical-align: top;\n",
       "    }\n",
       "\n",
       "    .dataframe thead th {\n",
       "        text-align: right;\n",
       "    }\n",
       "</style>\n",
       "<table border=\"1\" class=\"dataframe\">\n",
       "  <thead>\n",
       "    <tr style=\"text-align: right;\">\n",
       "      <th></th>\n",
       "      <th>junction_aa</th>\n",
       "      <th>v_call</th>\n",
       "      <th>cluster</th>\n",
       "    </tr>\n",
       "  </thead>\n",
       "  <tbody>\n",
       "    <tr>\n",
       "      <th>0</th>\n",
       "      <td>CASSEREANEQFF</td>\n",
       "      <td>TRBV6-4</td>\n",
       "      <td>26</td>\n",
       "    </tr>\n",
       "    <tr>\n",
       "      <th>1</th>\n",
       "      <td>CASSDRSGGADEQFF</td>\n",
       "      <td>TRBV6-4</td>\n",
       "      <td>1003</td>\n",
       "    </tr>\n",
       "    <tr>\n",
       "      <th>2</th>\n",
       "      <td>CASSYGAGANVLTF</td>\n",
       "      <td>TRBV6-5</td>\n",
       "      <td>823</td>\n",
       "    </tr>\n",
       "    <tr>\n",
       "      <th>3</th>\n",
       "      <td>CASSEDGNTEAFF</td>\n",
       "      <td>TRBV6-4</td>\n",
       "      <td>43</td>\n",
       "    </tr>\n",
       "    <tr>\n",
       "      <th>4</th>\n",
       "      <td>CASSEATGGANVLTF</td>\n",
       "      <td>TRBV6-4</td>\n",
       "      <td>1069</td>\n",
       "    </tr>\n",
       "  </tbody>\n",
       "</table>\n",
       "</div>"
      ],
      "text/plain": [
       "       junction_aa   v_call  cluster\n",
       "0    CASSEREANEQFF  TRBV6-4       26\n",
       "1  CASSDRSGGADEQFF  TRBV6-4     1003\n",
       "2   CASSYGAGANVLTF  TRBV6-5      823\n",
       "3    CASSEDGNTEAFF  TRBV6-4       43\n",
       "4  CASSEATGGANVLTF  TRBV6-4     1069"
      ]
     },
     "execution_count": 6,
     "metadata": {},
     "output_type": "execute_result"
    }
   ],
   "source": [
    "# Access the clustering results\n",
    "clusters = results.clusters_df\n",
    "clusters.head()"
   ]
  },
  {
   "cell_type": "markdown",
   "id": "27f04072-ec4b-41be-9063-6ca9f1d21e78",
   "metadata": {},
   "source": [
    "To get a more condensed overview of the clustering results, you can use the `summary()` function. This will create a consensus representation of each cluster, and displays cluster size. Check out the ClusTCR [documentation](https://svalkiers.github.io/clusTCR/docs/clustering/how-to-use.html) to gain more insight into the meaning of the different characters represented in the consensus notation. Note that this may take some time to run."
   ]
  },
  {
   "cell_type": "code",
   "execution_count": 7,
   "id": "52127ede-f210-4e90-a258-0fb5a1b4b938",
   "metadata": {},
   "outputs": [
    {
     "data": {
      "text/html": [
       "<div>\n",
       "<style scoped>\n",
       "    .dataframe tbody tr th:only-of-type {\n",
       "        vertical-align: middle;\n",
       "    }\n",
       "\n",
       "    .dataframe tbody tr th {\n",
       "        vertical-align: top;\n",
       "    }\n",
       "\n",
       "    .dataframe thead th {\n",
       "        text-align: right;\n",
       "    }\n",
       "</style>\n",
       "<table border=\"1\" class=\"dataframe\">\n",
       "  <thead>\n",
       "    <tr style=\"text-align: right;\">\n",
       "      <th></th>\n",
       "      <th>size</th>\n",
       "      <th>motif</th>\n",
       "    </tr>\n",
       "  </thead>\n",
       "  <tbody>\n",
       "    <tr>\n",
       "      <th>0</th>\n",
       "      <td>232</td>\n",
       "      <td>CASS.r.aGELFF</td>\n",
       "    </tr>\n",
       "    <tr>\n",
       "      <th>1</th>\n",
       "      <td>241</td>\n",
       "      <td>CASSpaSGGa[ND]EQFF</td>\n",
       "    </tr>\n",
       "    <tr>\n",
       "      <th>2</th>\n",
       "      <td>143</td>\n",
       "      <td>CASS[SY]GAGANVLTF</td>\n",
       "    </tr>\n",
       "    <tr>\n",
       "      <th>3</th>\n",
       "      <td>3</td>\n",
       "      <td>CASS..GNTEAFF</td>\n",
       "    </tr>\n",
       "    <tr>\n",
       "      <th>4</th>\n",
       "      <td>21</td>\n",
       "      <td>CASSEATggANVLTF</td>\n",
       "    </tr>\n",
       "  </tbody>\n",
       "</table>\n",
       "</div>"
      ],
      "text/plain": [
       "   size               motif\n",
       "0   232       CASS.r.aGELFF\n",
       "1   241  CASSpaSGGa[ND]EQFF\n",
       "2   143   CASS[SY]GAGANVLTF\n",
       "3     3       CASS..GNTEAFF\n",
       "4    21     CASSEATggANVLTF"
      ]
     },
     "execution_count": 7,
     "metadata": {},
     "output_type": "execute_result"
    }
   ],
   "source": [
    "# Overview of the clustering output\n",
    "summary = results.summary()\n",
    "summary.head()"
   ]
  },
  {
   "cell_type": "markdown",
   "id": "c90caa17-9efd-4845-94d6-90e218cef832",
   "metadata": {},
   "source": [
    "Another useful function you can perform on the `ClusteringResult` object is `compute_features()`. This function will calculate several properties of the clusters, including physicochemical characteristics, cluster entropy, and (optionally) generation probability. Note that when calculating generation probability, this function may take a while to run."
   ]
  },
  {
   "cell_type": "code",
   "execution_count": 9,
   "id": "43a1c58c-be43-4815-91fa-68d8512a502e",
   "metadata": {
    "tags": []
   },
   "outputs": [],
   "source": [
    "import warnings\n",
    "# Compute more cluster features for downstream use\n",
    "# Set warnings filter to prevent triggering of RuntimeWarning\n",
    "with warnings.catch_warnings():\n",
    "    warnings.simplefilter(\"ignore\", category = RuntimeWarning)\n",
    "    features = results.compute_features(compute_pgen = True)"
   ]
  },
  {
   "cell_type": "code",
   "execution_count": 20,
   "id": "3b5cc150-c519-4f6b-b315-bdd546a59b20",
   "metadata": {},
   "outputs": [
    {
     "data": {
      "text/html": [
       "<div>\n",
       "<style scoped>\n",
       "    .dataframe tbody tr th:only-of-type {\n",
       "        vertical-align: middle;\n",
       "    }\n",
       "\n",
       "    .dataframe tbody tr th {\n",
       "        vertical-align: top;\n",
       "    }\n",
       "\n",
       "    .dataframe thead th {\n",
       "        text-align: right;\n",
       "    }\n",
       "</style>\n",
       "<table border=\"1\" class=\"dataframe\">\n",
       "  <thead>\n",
       "    <tr style=\"text-align: right;\">\n",
       "      <th></th>\n",
       "      <th>h</th>\n",
       "      <th>size</th>\n",
       "      <th>length</th>\n",
       "      <th>basicity_avg</th>\n",
       "      <th>hydrophobicity_avg</th>\n",
       "      <th>helicity_avg</th>\n",
       "      <th>mutation stability_avg</th>\n",
       "      <th>basicity_var</th>\n",
       "      <th>hydrophobicity_var</th>\n",
       "      <th>helicity_var</th>\n",
       "      <th>mutation stability_var</th>\n",
       "      <th>pgen_avg</th>\n",
       "      <th>pgen_var</th>\n",
       "    </tr>\n",
       "    <tr>\n",
       "      <th>cluster</th>\n",
       "      <th></th>\n",
       "      <th></th>\n",
       "      <th></th>\n",
       "      <th></th>\n",
       "      <th></th>\n",
       "      <th></th>\n",
       "      <th></th>\n",
       "      <th></th>\n",
       "      <th></th>\n",
       "      <th></th>\n",
       "      <th></th>\n",
       "      <th></th>\n",
       "      <th></th>\n",
       "    </tr>\n",
       "  </thead>\n",
       "  <tbody>\n",
       "    <tr>\n",
       "      <th>243</th>\n",
       "      <td>0.109465</td>\n",
       "      <td>15</td>\n",
       "      <td>13</td>\n",
       "      <td>209.132444</td>\n",
       "      <td>-0.729644</td>\n",
       "      <td>1.060311</td>\n",
       "      <td>19.137778</td>\n",
       "      <td>0.414596</td>\n",
       "      <td>0.052020</td>\n",
       "      <td>0.000167</td>\n",
       "      <td>0.433312</td>\n",
       "      <td>6.952818e-09</td>\n",
       "      <td>3.441341e-17</td>\n",
       "    </tr>\n",
       "    <tr>\n",
       "      <th>44</th>\n",
       "      <td>0.071429</td>\n",
       "      <td>2</td>\n",
       "      <td>14</td>\n",
       "      <td>213.959375</td>\n",
       "      <td>-0.623750</td>\n",
       "      <td>0.994375</td>\n",
       "      <td>19.093750</td>\n",
       "      <td>0.092988</td>\n",
       "      <td>0.039903</td>\n",
       "      <td>0.000345</td>\n",
       "      <td>0.048828</td>\n",
       "      <td>1.252533e-13</td>\n",
       "      <td>3.122301e-26</td>\n",
       "    </tr>\n",
       "    <tr>\n",
       "      <th>267</th>\n",
       "      <td>0.076923</td>\n",
       "      <td>2</td>\n",
       "      <td>13</td>\n",
       "      <td>208.403333</td>\n",
       "      <td>-0.807667</td>\n",
       "      <td>1.065333</td>\n",
       "      <td>20.833333</td>\n",
       "      <td>0.304200</td>\n",
       "      <td>0.005760</td>\n",
       "      <td>0.000748</td>\n",
       "      <td>0.108889</td>\n",
       "      <td>4.525561e-09</td>\n",
       "      <td>1.294389e-17</td>\n",
       "    </tr>\n",
       "    <tr>\n",
       "      <th>607</th>\n",
       "      <td>0.135843</td>\n",
       "      <td>189</td>\n",
       "      <td>11</td>\n",
       "      <td>210.373097</td>\n",
       "      <td>-0.086064</td>\n",
       "      <td>1.068384</td>\n",
       "      <td>19.561254</td>\n",
       "      <td>1.349025</td>\n",
       "      <td>0.127309</td>\n",
       "      <td>0.000558</td>\n",
       "      <td>1.744788</td>\n",
       "      <td>2.142351e-07</td>\n",
       "      <td>9.769091e-14</td>\n",
       "    </tr>\n",
       "    <tr>\n",
       "      <th>227</th>\n",
       "      <td>0.150012</td>\n",
       "      <td>146</td>\n",
       "      <td>13</td>\n",
       "      <td>209.674977</td>\n",
       "      <td>-0.666374</td>\n",
       "      <td>1.055721</td>\n",
       "      <td>20.208219</td>\n",
       "      <td>1.176936</td>\n",
       "      <td>0.101645</td>\n",
       "      <td>0.000484</td>\n",
       "      <td>1.814982</td>\n",
       "      <td>3.173853e-08</td>\n",
       "      <td>4.785767e-15</td>\n",
       "    </tr>\n",
       "  </tbody>\n",
       "</table>\n",
       "</div>"
      ],
      "text/plain": [
       "                h  size  length  basicity_avg  hydrophobicity_avg  \\\n",
       "cluster                                                             \n",
       "243      0.109465    15      13    209.132444           -0.729644   \n",
       "44       0.071429     2      14    213.959375           -0.623750   \n",
       "267      0.076923     2      13    208.403333           -0.807667   \n",
       "607      0.135843   189      11    210.373097           -0.086064   \n",
       "227      0.150012   146      13    209.674977           -0.666374   \n",
       "\n",
       "         helicity_avg  mutation stability_avg  basicity_var  \\\n",
       "cluster                                                       \n",
       "243          1.060311               19.137778      0.414596   \n",
       "44           0.994375               19.093750      0.092988   \n",
       "267          1.065333               20.833333      0.304200   \n",
       "607          1.068384               19.561254      1.349025   \n",
       "227          1.055721               20.208219      1.176936   \n",
       "\n",
       "         hydrophobicity_var  helicity_var  mutation stability_var  \\\n",
       "cluster                                                             \n",
       "243                0.052020      0.000167                0.433312   \n",
       "44                 0.039903      0.000345                0.048828   \n",
       "267                0.005760      0.000748                0.108889   \n",
       "607                0.127309      0.000558                1.744788   \n",
       "227                0.101645      0.000484                1.814982   \n",
       "\n",
       "             pgen_avg      pgen_var  \n",
       "cluster                              \n",
       "243      6.952818e-09  3.441341e-17  \n",
       "44       1.252533e-13  3.122301e-26  \n",
       "267      4.525561e-09  1.294389e-17  \n",
       "607      2.142351e-07  9.769091e-14  \n",
       "227      3.173853e-08  4.785767e-15  "
      ]
     },
     "execution_count": 20,
     "metadata": {},
     "output_type": "execute_result"
    }
   ],
   "source": [
    "features.head()"
   ]
  },
  {
   "cell_type": "code",
   "execution_count": 10,
   "id": "ca5139c7-6a3c-4b8b-90fc-3482251f62ba",
   "metadata": {},
   "outputs": [],
   "source": [
    "features.to_csv(\"./results/clustcr/P1_15_cluster_features.tsv\", sep = \"\\t\", index = False)\n",
    "clusters.to_csv(\"./results/clustcr/P1_0_clusters.tsv\", sep = \"\\t\", index = False)"
   ]
  },
  {
   "cell_type": "code",
   "execution_count": 11,
   "id": "cdf6152f-9123-438a-8c9a-b3ed6c79adad",
   "metadata": {},
   "outputs": [
    {
     "name": "stdout",
     "output_type": "stream",
     "text": [
      "Total time to run ClusTCR: 68.556s\n"
     ]
    }
   ],
   "source": [
    "from multiprocessing import cpu_count\n",
    "\n",
    "data = pd.read_csv(\"./data/examples/P1_15.tsv\", sep = \"\\t\")\n",
    "\n",
    "# Initiate the Clustering object \n",
    "# Here we set n_cpus equal to the number of available CPUs\n",
    "clustering = Clustering(n_cpus = cpu_count())\n",
    "# Fit the data\n",
    "results = clustering.fit(\n",
    "    data = data,\n",
    "    include_vgene = True,\n",
    "    cdr3_col = \"junction_aa\",\n",
    "    v_gene_col = \"v_call\"\n",
    "    )\n",
    "\n",
    "clusters = results.clusters_df\n",
    "clusters.to_csv(\"./results/clustcr/P1_15_clusters.tsv\", sep = \"\\t\", index = False)"
   ]
  }
 ],
 "metadata": {
  "kernelspec": {
   "display_name": "Python 3 (ipykernel)",
   "language": "python",
   "name": "python3"
  },
  "language_info": {
   "codemirror_mode": {
    "name": "ipython",
    "version": 3
   },
   "file_extension": ".py",
   "mimetype": "text/x-python",
   "name": "python",
   "nbconvert_exporter": "python",
   "pygments_lexer": "ipython3",
   "version": "3.8.12"
  }
 },
 "nbformat": 4,
 "nbformat_minor": 5
}
