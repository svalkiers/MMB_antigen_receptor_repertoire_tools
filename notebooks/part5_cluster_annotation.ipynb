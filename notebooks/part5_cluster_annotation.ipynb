{
 "cells": [
  {
   "cell_type": "markdown",
   "id": "1d024374-b665-4b74-8f32-611f30224d9a",
   "metadata": {},
   "source": [
    "# **PART 5:** Cluster annotation & visualization\n",
    "In this tutorial we will combine all the results from TCRex and ClusTCR and attempt to interpret them."
   ]
  },
  {
   "cell_type": "code",
   "execution_count": 1,
   "id": "1e44dca9-3272-4c0e-b41d-d02cb8c88c0b",
   "metadata": {},
   "outputs": [],
   "source": [
    "import os\n",
    "# Set the working directory to the repository directory\n",
    "os.chdir(\"/home/sebastiaan/PhD/Repositories/book_chapter/\")"
   ]
  },
  {
   "cell_type": "markdown",
   "id": "a7332b62-0f53-4a2a-bc37-54967e8dac37",
   "metadata": {},
   "source": [
    "In addition to the pandas and numpy libraries, we will import the custom function `merge_results` from the \"./src\" folder in this repository. This function will perform the necessary steps to merge the original data files (which we will need to remap the J genes), the clustering results and the TCRex results. In this tutorial we will illustrate a basic visualization strategy, which will require the networkx library, as well as the custom `create_edgelist_vgene` function."
   ]
  },
  {
   "cell_type": "code",
   "execution_count": 2,
   "id": "56c110da-a36c-4f30-9028-cba29532d84c",
   "metadata": {},
   "outputs": [],
   "source": [
    "import pandas as pd\n",
    "import numpy as np\n",
    "import networkx as nx\n",
    "\n",
    "from src.tools import merge_results, create_edgelist_vgene"
   ]
  },
  {
   "cell_type": "markdown",
   "id": "138117de-09b0-4b78-9333-930b1c24eae6",
   "metadata": {},
   "source": [
    "We start by merging the results for P1 at day 0."
   ]
  },
  {
   "cell_type": "code",
   "execution_count": 3,
   "id": "364def7d-5564-4151-81b2-939c34c1ff29",
   "metadata": {},
   "outputs": [],
   "source": [
    "# TCRex results\n",
    "tcrex = pd.read_csv(\"./results/tcrex/P1_0_tcrex.tsv\", sep = \"\\t\")\n",
    "# ClusTCR results\n",
    "clust = pd.read_csv(\"./results/clustcr/P1_0_clusters.tsv\", sep = \"\\t\")\n",
    "# Original data\n",
    "rawdata = pd.read_csv(\"./data/examples/P1_0.tsv\", sep = \"\\t\")\n",
    "\n",
    "merged_0 = merge_results(\n",
    "    original = rawdata,\n",
    "    clusters = clust,\n",
    "    predictions = tcrex\n",
    "    )\n",
    "\n",
    "# Drop TCRs that do not belong to any cluster\n",
    "merged_0 = merged_0.dropna(subset = [\"cluster\"])\n",
    "\n",
    "# Select the columns we want to keep\n",
    "keep = [\"duplicate_count\",\n",
    "        \"frequency\",\n",
    "        \"junction_aa\", \n",
    "        \"v_call\", \n",
    "        \"j_call\", \n",
    "        \"cluster\",\n",
    "        \"epitope\",\n",
    "        \"pathology\",\n",
    "        \"score\",\n",
    "        \"bpr\"]\n",
    "merged_0 = merged_0[keep]\n",
    "# Save results to file\n",
    "merged_0.to_csv(\"./results/P1_0_clusters_tcrex.tsv\", sep = \"\\t\", index = False)"
   ]
  },
  {
   "cell_type": "code",
   "execution_count": 4,
   "id": "1bbacae4-1aaf-4fd5-8513-6d52ea9bb517",
   "metadata": {},
   "outputs": [
    {
     "data": {
      "text/html": [
       "<div>\n",
       "<style scoped>\n",
       "    .dataframe tbody tr th:only-of-type {\n",
       "        vertical-align: middle;\n",
       "    }\n",
       "\n",
       "    .dataframe tbody tr th {\n",
       "        vertical-align: top;\n",
       "    }\n",
       "\n",
       "    .dataframe thead th {\n",
       "        text-align: right;\n",
       "    }\n",
       "</style>\n",
       "<table border=\"1\" class=\"dataframe\">\n",
       "  <thead>\n",
       "    <tr style=\"text-align: right;\">\n",
       "      <th></th>\n",
       "      <th>duplicate_count</th>\n",
       "      <th>frequency</th>\n",
       "      <th>junction_aa</th>\n",
       "      <th>v_call</th>\n",
       "      <th>j_call</th>\n",
       "      <th>cluster</th>\n",
       "      <th>epitope</th>\n",
       "      <th>pathology</th>\n",
       "      <th>score</th>\n",
       "      <th>bpr</th>\n",
       "    </tr>\n",
       "  </thead>\n",
       "  <tbody>\n",
       "    <tr>\n",
       "      <th>0</th>\n",
       "      <td>4444.0</td>\n",
       "      <td>0.001582</td>\n",
       "      <td>CASSEREANEQFF</td>\n",
       "      <td>TRBV6-4*00</td>\n",
       "      <td>TRBJ2-1*00</td>\n",
       "      <td>795.0</td>\n",
       "      <td>NaN</td>\n",
       "      <td>NaN</td>\n",
       "      <td>NaN</td>\n",
       "      <td>NaN</td>\n",
       "    </tr>\n",
       "    <tr>\n",
       "      <th>1</th>\n",
       "      <td>2356.0</td>\n",
       "      <td>0.000839</td>\n",
       "      <td>CASSDRSGGADEQFF</td>\n",
       "      <td>TRBV6-4*00</td>\n",
       "      <td>TRBJ2-1*00</td>\n",
       "      <td>437.0</td>\n",
       "      <td>NaN</td>\n",
       "      <td>NaN</td>\n",
       "      <td>NaN</td>\n",
       "      <td>NaN</td>\n",
       "    </tr>\n",
       "    <tr>\n",
       "      <th>2</th>\n",
       "      <td>789.0</td>\n",
       "      <td>0.000281</td>\n",
       "      <td>CASSYGAGANVLTF</td>\n",
       "      <td>TRBV6-5*00</td>\n",
       "      <td>TRBJ2-6*00</td>\n",
       "      <td>1263.0</td>\n",
       "      <td>NaN</td>\n",
       "      <td>NaN</td>\n",
       "      <td>NaN</td>\n",
       "      <td>NaN</td>\n",
       "    </tr>\n",
       "    <tr>\n",
       "      <th>3</th>\n",
       "      <td>737.0</td>\n",
       "      <td>0.000262</td>\n",
       "      <td>CASSEDGNTEAFF</td>\n",
       "      <td>TRBV6-4*00</td>\n",
       "      <td>TRBJ1-1*00</td>\n",
       "      <td>803.0</td>\n",
       "      <td>NaN</td>\n",
       "      <td>NaN</td>\n",
       "      <td>NaN</td>\n",
       "      <td>NaN</td>\n",
       "    </tr>\n",
       "    <tr>\n",
       "      <th>4</th>\n",
       "      <td>730.0</td>\n",
       "      <td>0.000260</td>\n",
       "      <td>CASSEATGGANVLTF</td>\n",
       "      <td>TRBV6-4*00</td>\n",
       "      <td>TRBJ2-6*00</td>\n",
       "      <td>494.0</td>\n",
       "      <td>NaN</td>\n",
       "      <td>NaN</td>\n",
       "      <td>NaN</td>\n",
       "      <td>NaN</td>\n",
       "    </tr>\n",
       "  </tbody>\n",
       "</table>\n",
       "</div>"
      ],
      "text/plain": [
       "   duplicate_count  frequency      junction_aa      v_call      j_call  \\\n",
       "0           4444.0   0.001582    CASSEREANEQFF  TRBV6-4*00  TRBJ2-1*00   \n",
       "1           2356.0   0.000839  CASSDRSGGADEQFF  TRBV6-4*00  TRBJ2-1*00   \n",
       "2            789.0   0.000281   CASSYGAGANVLTF  TRBV6-5*00  TRBJ2-6*00   \n",
       "3            737.0   0.000262    CASSEDGNTEAFF  TRBV6-4*00  TRBJ1-1*00   \n",
       "4            730.0   0.000260  CASSEATGGANVLTF  TRBV6-4*00  TRBJ2-6*00   \n",
       "\n",
       "   cluster epitope pathology  score  bpr  \n",
       "0    795.0     NaN       NaN    NaN  NaN  \n",
       "1    437.0     NaN       NaN    NaN  NaN  \n",
       "2   1263.0     NaN       NaN    NaN  NaN  \n",
       "3    803.0     NaN       NaN    NaN  NaN  \n",
       "4    494.0     NaN       NaN    NaN  NaN  "
      ]
     },
     "execution_count": 4,
     "metadata": {},
     "output_type": "execute_result"
    }
   ],
   "source": [
    "merged_0.head()"
   ]
  },
  {
   "cell_type": "markdown",
   "id": "551b922e-c523-4487-8c60-c38da7935be1",
   "metadata": {},
   "source": [
    "We do the same for P1 at day 15 post YFV vaccination."
   ]
  },
  {
   "cell_type": "code",
   "execution_count": 5,
   "id": "bd1ce913-13e0-4320-abc3-d2e1f6baf2f9",
   "metadata": {},
   "outputs": [],
   "source": [
    "# TCRex results\n",
    "tcrex = pd.read_csv(\"./results/tcrex/P1_15_tcrex.tsv\", sep = \"\\t\")\n",
    "# ClusTCR results\n",
    "clust = pd.read_csv(\"./results/clustcr/P1_15_clusters.tsv\", sep = \"\\t\")\n",
    "# Original data\n",
    "rawdata = pd.read_csv(\"./data/examples/P1_15.tsv\", sep = \"\\t\")\n",
    "\n",
    "merged_15 = merge_results(\n",
    "    original = rawdata,\n",
    "    clusters = clust,\n",
    "    predictions = tcrex\n",
    "    )\n",
    "\n",
    "merged_15 = merged_15.dropna(subset = [\"cluster\"])\n",
    "\n",
    "keep = [\"duplicate_count\",\n",
    "        \"frequency\",\n",
    "        \"junction_aa\", \n",
    "        \"v_call\", \n",
    "        \"j_call\", \n",
    "        \"cluster\",\n",
    "        \"epitope\",\n",
    "        \"pathology\",\n",
    "        \"score\",\n",
    "        \"bpr\"]\n",
    "\n",
    "merged_15 = merged_15[keep]\n",
    "merged_15.to_csv(\"./results/P1_15_clusters_tcrex.tsv\", sep = \"\\t\", index = False)"
   ]
  },
  {
   "cell_type": "code",
   "execution_count": 6,
   "id": "f2a68457-17b9-461a-acf8-b87c8ecc61eb",
   "metadata": {},
   "outputs": [
    {
     "data": {
      "text/html": [
       "<div>\n",
       "<style scoped>\n",
       "    .dataframe tbody tr th:only-of-type {\n",
       "        vertical-align: middle;\n",
       "    }\n",
       "\n",
       "    .dataframe tbody tr th {\n",
       "        vertical-align: top;\n",
       "    }\n",
       "\n",
       "    .dataframe thead th {\n",
       "        text-align: right;\n",
       "    }\n",
       "</style>\n",
       "<table border=\"1\" class=\"dataframe\">\n",
       "  <thead>\n",
       "    <tr style=\"text-align: right;\">\n",
       "      <th></th>\n",
       "      <th>duplicate_count</th>\n",
       "      <th>frequency</th>\n",
       "      <th>junction_aa</th>\n",
       "      <th>v_call</th>\n",
       "      <th>j_call</th>\n",
       "      <th>cluster</th>\n",
       "      <th>epitope</th>\n",
       "      <th>pathology</th>\n",
       "      <th>score</th>\n",
       "      <th>bpr</th>\n",
       "    </tr>\n",
       "  </thead>\n",
       "  <tbody>\n",
       "    <tr>\n",
       "      <th>0</th>\n",
       "      <td>1480.0</td>\n",
       "      <td>0.000769</td>\n",
       "      <td>CASSDRSGGADEQFF</td>\n",
       "      <td>TRBV6-4*00</td>\n",
       "      <td>TRBJ2-1*00</td>\n",
       "      <td>243.0</td>\n",
       "      <td>NaN</td>\n",
       "      <td>NaN</td>\n",
       "      <td>NaN</td>\n",
       "      <td>NaN</td>\n",
       "    </tr>\n",
       "    <tr>\n",
       "      <th>1</th>\n",
       "      <td>857.0</td>\n",
       "      <td>0.000445</td>\n",
       "      <td>CASSEDPRLQRDEQFF</td>\n",
       "      <td>TRBV6-1*00</td>\n",
       "      <td>TRBJ2-1*00</td>\n",
       "      <td>44.0</td>\n",
       "      <td>NaN</td>\n",
       "      <td>NaN</td>\n",
       "      <td>NaN</td>\n",
       "      <td>NaN</td>\n",
       "    </tr>\n",
       "    <tr>\n",
       "      <th>2</th>\n",
       "      <td>687.0</td>\n",
       "      <td>0.000357</td>\n",
       "      <td>CASSDSPTGAYGYTF</td>\n",
       "      <td>TRBV6-1*00</td>\n",
       "      <td>TRBJ1-2*00</td>\n",
       "      <td>267.0</td>\n",
       "      <td>NaN</td>\n",
       "      <td>NaN</td>\n",
       "      <td>NaN</td>\n",
       "      <td>NaN</td>\n",
       "    </tr>\n",
       "    <tr>\n",
       "      <th>3</th>\n",
       "      <td>558.0</td>\n",
       "      <td>0.000290</td>\n",
       "      <td>CASSERENTEAFF</td>\n",
       "      <td>TRBV6-4*00</td>\n",
       "      <td>TRBJ1-1*00</td>\n",
       "      <td>607.0</td>\n",
       "      <td>NaN</td>\n",
       "      <td>NaN</td>\n",
       "      <td>NaN</td>\n",
       "      <td>NaN</td>\n",
       "    </tr>\n",
       "    <tr>\n",
       "      <th>4</th>\n",
       "      <td>3.0</td>\n",
       "      <td>0.000002</td>\n",
       "      <td>CASSERENTEAFF</td>\n",
       "      <td>TRBV6-1*00</td>\n",
       "      <td>TRBJ1-1*00</td>\n",
       "      <td>607.0</td>\n",
       "      <td>NaN</td>\n",
       "      <td>NaN</td>\n",
       "      <td>NaN</td>\n",
       "      <td>NaN</td>\n",
       "    </tr>\n",
       "  </tbody>\n",
       "</table>\n",
       "</div>"
      ],
      "text/plain": [
       "   duplicate_count  frequency       junction_aa      v_call      j_call  \\\n",
       "0           1480.0   0.000769   CASSDRSGGADEQFF  TRBV6-4*00  TRBJ2-1*00   \n",
       "1            857.0   0.000445  CASSEDPRLQRDEQFF  TRBV6-1*00  TRBJ2-1*00   \n",
       "2            687.0   0.000357   CASSDSPTGAYGYTF  TRBV6-1*00  TRBJ1-2*00   \n",
       "3            558.0   0.000290     CASSERENTEAFF  TRBV6-4*00  TRBJ1-1*00   \n",
       "4              3.0   0.000002     CASSERENTEAFF  TRBV6-1*00  TRBJ1-1*00   \n",
       "\n",
       "   cluster epitope pathology  score  bpr  \n",
       "0    243.0     NaN       NaN    NaN  NaN  \n",
       "1     44.0     NaN       NaN    NaN  NaN  \n",
       "2    267.0     NaN       NaN    NaN  NaN  \n",
       "3    607.0     NaN       NaN    NaN  NaN  \n",
       "4    607.0     NaN       NaN    NaN  NaN  "
      ]
     },
     "execution_count": 6,
     "metadata": {},
     "output_type": "execute_result"
    }
   ],
   "source": [
    "merged_15.head()"
   ]
  },
  {
   "cell_type": "markdown",
   "id": "a265f961-d5c4-4ccb-8a0f-03389127a936",
   "metadata": {},
   "source": [
    "Now we will select only those cluster that contain at least one TCR with at least one epitope annotation. Next, we will count the number of epitopes within each cluster and sort the data according to the number of (epitope-)annotated TCRs in the cluster (high -> low)."
   ]
  },
  {
   "cell_type": "code",
   "execution_count": 23,
   "id": "bb54166c-e3dc-4a0f-a89f-b0f4f921cb40",
   "metadata": {},
   "outputs": [
    {
     "name": "stderr",
     "output_type": "stream",
     "text": [
      "/tmp/ipykernel_165992/946731723.py:5: FutureWarning: Passing a set as an indexer is deprecated and will raise in a future version. Use a list instead.\n",
      "  cluster_size = merged_0.cluster.value_counts()[clusters_with_hits].sort_index()\n"
     ]
    },
    {
     "data": {
      "text/html": [
       "<div>\n",
       "<style scoped>\n",
       "    .dataframe tbody tr th:only-of-type {\n",
       "        vertical-align: middle;\n",
       "    }\n",
       "\n",
       "    .dataframe tbody tr th {\n",
       "        vertical-align: top;\n",
       "    }\n",
       "\n",
       "    .dataframe thead th {\n",
       "        text-align: right;\n",
       "    }\n",
       "</style>\n",
       "<table border=\"1\" class=\"dataframe\">\n",
       "  <thead>\n",
       "    <tr style=\"text-align: right;\">\n",
       "      <th></th>\n",
       "      <th>epitope</th>\n",
       "      <th>cluster</th>\n",
       "    </tr>\n",
       "  </thead>\n",
       "  <tbody>\n",
       "    <tr>\n",
       "      <th>4196.0</th>\n",
       "      <td>112</td>\n",
       "      <td>570</td>\n",
       "    </tr>\n",
       "    <tr>\n",
       "      <th>2722.0</th>\n",
       "      <td>84</td>\n",
       "      <td>355</td>\n",
       "    </tr>\n",
       "    <tr>\n",
       "      <th>12296.0</th>\n",
       "      <td>75</td>\n",
       "      <td>278</td>\n",
       "    </tr>\n",
       "    <tr>\n",
       "      <th>5792.0</th>\n",
       "      <td>63</td>\n",
       "      <td>123</td>\n",
       "    </tr>\n",
       "    <tr>\n",
       "      <th>4192.0</th>\n",
       "      <td>53</td>\n",
       "      <td>477</td>\n",
       "    </tr>\n",
       "    <tr>\n",
       "      <th>4193.0</th>\n",
       "      <td>41</td>\n",
       "      <td>216</td>\n",
       "    </tr>\n",
       "    <tr>\n",
       "      <th>4191.0</th>\n",
       "      <td>28</td>\n",
       "      <td>594</td>\n",
       "    </tr>\n",
       "    <tr>\n",
       "      <th>8477.0</th>\n",
       "      <td>27</td>\n",
       "      <td>110</td>\n",
       "    </tr>\n",
       "    <tr>\n",
       "      <th>9722.0</th>\n",
       "      <td>26</td>\n",
       "      <td>210</td>\n",
       "    </tr>\n",
       "    <tr>\n",
       "      <th>3387.0</th>\n",
       "      <td>25</td>\n",
       "      <td>208</td>\n",
       "    </tr>\n",
       "  </tbody>\n",
       "</table>\n",
       "</div>"
      ],
      "text/plain": [
       "         epitope  cluster\n",
       "4196.0       112      570\n",
       "2722.0        84      355\n",
       "12296.0       75      278\n",
       "5792.0        63      123\n",
       "4192.0        53      477\n",
       "4193.0        41      216\n",
       "4191.0        28      594\n",
       "8477.0        27      110\n",
       "9722.0        26      210\n",
       "3387.0        25      208"
      ]
     },
     "execution_count": 23,
     "metadata": {},
     "output_type": "execute_result"
    }
   ],
   "source": [
    "clusters_with_hits = set(merged_0.dropna(subset = \"epitope\").cluster)\n",
    "subset = merged_0[merged_0.cluster.isin(clusters_with_hits)]\n",
    "\n",
    "epi_count = subset.groupby(\"cluster\").count().epitope.sort_index()\n",
    "cluster_size = merged_0.cluster.value_counts()[clusters_with_hits].sort_index()\n",
    "\n",
    "res = pd.concat([epi_count, cluster_size], axis = 1)\n",
    "res.sort_values(by = \"epitope\", ascending = False).head(10)"
   ]
  },
  {
   "cell_type": "markdown",
   "id": "ef9de4e5-e442-4ec5-bcd3-9d70bb5cb917",
   "metadata": {},
   "source": [
    "We can perform the same analysis, but this time only looking at a particular pathology of interest. In this case, we are interested in the number of YFV-specific clusters."
   ]
  },
  {
   "cell_type": "code",
   "execution_count": 21,
   "id": "a1bb2e00-4d0b-40a0-8b98-127bdba05cc7",
   "metadata": {},
   "outputs": [
    {
     "name": "stderr",
     "output_type": "stream",
     "text": [
      "/tmp/ipykernel_165992/698708457.py:5: FutureWarning: Passing a set as an indexer is deprecated and will raise in a future version. Use a list instead.\n",
      "  cluster_size = merged_0.cluster.value_counts()[clusters_with_hits].sort_index()\n"
     ]
    },
    {
     "data": {
      "text/html": [
       "<div>\n",
       "<style scoped>\n",
       "    .dataframe tbody tr th:only-of-type {\n",
       "        vertical-align: middle;\n",
       "    }\n",
       "\n",
       "    .dataframe tbody tr th {\n",
       "        vertical-align: top;\n",
       "    }\n",
       "\n",
       "    .dataframe thead th {\n",
       "        text-align: right;\n",
       "    }\n",
       "</style>\n",
       "<table border=\"1\" class=\"dataframe\">\n",
       "  <thead>\n",
       "    <tr style=\"text-align: right;\">\n",
       "      <th></th>\n",
       "      <th>epitope</th>\n",
       "      <th>cluster</th>\n",
       "    </tr>\n",
       "  </thead>\n",
       "  <tbody>\n",
       "  </tbody>\n",
       "</table>\n",
       "</div>"
      ],
      "text/plain": [
       "Empty DataFrame\n",
       "Columns: [epitope, cluster]\n",
       "Index: []"
      ]
     },
     "execution_count": 21,
     "metadata": {},
     "output_type": "execute_result"
    }
   ],
   "source": [
    "clusters_with_hits = set(merged_0[merged_0.pathology=='YellowFeverVirus'].cluster)\n",
    "subset = merged_0[merged_0.cluster.isin(clusters_with_hits)]\n",
    "\n",
    "epi_count = subset.groupby(\"cluster\").count().epitope.sort_index()\n",
    "cluster_size = merged_0.cluster.value_counts()[clusters_with_hits].sort_index()\n",
    "\n",
    "res = pd.concat([epi_count, cluster_size], axis = 1)\n",
    "res.sort_values(by = \"epitope\", ascending = False).head(10)"
   ]
  },
  {
   "cell_type": "markdown",
   "id": "dcd542cc-d783-43ca-b924-df6695eae192",
   "metadata": {},
   "source": [
    "We find no YFV-specific clusters in the day 0 repertoire. We will perform the same strategy at day 15."
   ]
  },
  {
   "cell_type": "code",
   "execution_count": 8,
   "id": "2484adb9-0941-41bc-928a-88546e83edaf",
   "metadata": {},
   "outputs": [
    {
     "name": "stderr",
     "output_type": "stream",
     "text": [
      "/tmp/ipykernel_165992/498134811.py:5: FutureWarning: Passing a set as an indexer is deprecated and will raise in a future version. Use a list instead.\n",
      "  cluster_size = merged_15.cluster.value_counts()[clusters_with_yfv].sort_index()\n"
     ]
    },
    {
     "data": {
      "text/html": [
       "<div>\n",
       "<style scoped>\n",
       "    .dataframe tbody tr th:only-of-type {\n",
       "        vertical-align: middle;\n",
       "    }\n",
       "\n",
       "    .dataframe tbody tr th {\n",
       "        vertical-align: top;\n",
       "    }\n",
       "\n",
       "    .dataframe thead th {\n",
       "        text-align: right;\n",
       "    }\n",
       "</style>\n",
       "<table border=\"1\" class=\"dataframe\">\n",
       "  <thead>\n",
       "    <tr style=\"text-align: right;\">\n",
       "      <th></th>\n",
       "      <th>epitope</th>\n",
       "      <th>cluster</th>\n",
       "    </tr>\n",
       "  </thead>\n",
       "  <tbody>\n",
       "    <tr>\n",
       "      <th>7673.0</th>\n",
       "      <td>14</td>\n",
       "      <td>54</td>\n",
       "    </tr>\n",
       "  </tbody>\n",
       "</table>\n",
       "</div>"
      ],
      "text/plain": [
       "        epitope  cluster\n",
       "7673.0       14       54"
      ]
     },
     "execution_count": 8,
     "metadata": {},
     "output_type": "execute_result"
    }
   ],
   "source": [
    "clusters_with_yfv = set(merged_15[merged_15.pathology=='YellowFeverVirus'].cluster)\n",
    "subset = merged_15[merged_15.cluster.isin(clusters_with_yfv)]\n",
    "\n",
    "epi_count = subset.groupby(\"cluster\").count().epitope.sort_index()\n",
    "cluster_size = merged_15.cluster.value_counts()[clusters_with_yfv].sort_index()\n",
    "\n",
    "res = pd.concat([epi_count, cluster_size], axis = 1)\n",
    "res.sort_values(by = \"epitope\", ascending = False).head(10)"
   ]
  },
  {
   "cell_type": "markdown",
   "id": "1c59aacb-5572-4a92-b4ea-72df3c214709",
   "metadata": {},
   "source": [
    "Here we detected one cluster (7673), that contains a few YFV hits. Next, we will briefly illustrate how this cluster can be visualized using the networkx graph library."
   ]
  },
  {
   "cell_type": "code",
   "execution_count": 9,
   "id": "58e122c6-5cd9-470e-a3ed-e411a0fcd06b",
   "metadata": {},
   "outputs": [
    {
     "name": "stderr",
     "output_type": "stream",
     "text": [
      "/tmp/ipykernel_165992/1401302738.py:3: SettingWithCopyWarning: \n",
      "A value is trying to be set on a copy of a slice from a DataFrame.\n",
      "Try using .loc[row_indexer,col_indexer] = value instead\n",
      "\n",
      "See the caveats in the documentation: https://pandas.pydata.org/pandas-docs/stable/user_guide/indexing.html#returning-a-view-versus-a-copy\n",
      "  annotation['color'] = annotation['pathology'].map(color_mapping)\n",
      "/tmp/ipykernel_165992/1401302738.py:4: SettingWithCopyWarning: \n",
      "A value is trying to be set on a copy of a slice from a DataFrame.\n",
      "Try using .loc[row_indexer,col_indexer] = value instead\n",
      "\n",
      "See the caveats in the documentation: https://pandas.pydata.org/pandas-docs/stable/user_guide/indexing.html#returning-a-view-versus-a-copy\n",
      "  annotation['identifier'] = annotation['junction_aa'] + '_' + annotation['v_call']\n"
     ]
    },
    {
     "data": {
      "image/png": "[encoded data removed]",
      "text/plain": [
       "<Figure size 432x288 with 1 Axes>"
      ]
     },
     "metadata": {},
     "output_type": "display_data"
    }
   ],
   "source": [
    "# Create a color mapping\n",
    "color_mapping = {np.nan:'grey', 'YellowFeverVirus':'red'}\n",
    "\n",
    "# Map the colors to the epitope annotation, YFV gets red, no annotation gets grey\n",
    "annotation = subset[[\"junction_aa\", \"v_call\", \"pathology\"]]\n",
    "annotation['color'] = annotation['pathology'].map(color_mapping)\n",
    "annotation['identifier'] = annotation['junction_aa'] + '_' + annotation['v_call']\n",
    "\n",
    "# Next, make a dictionary of TCRs with their color\n",
    "colorlabels = dict(zip(annotation.identifier, annotation.color))\n",
    "\n",
    "# Identify which TCRs have an edit distance <= 1\n",
    "edgelist = create_edgelist_vgene(subset)\n",
    "\n",
    "# Plot the graph\n",
    "G = nx.from_pandas_edgelist(edgelist)\n",
    "nx.draw(G, node_color = [colorlabels[i] for i in list(G.nodes())], node_size=50)"
   ]
  }
 ],
 "metadata": {
  "kernelspec": {
   "display_name": "Python 3 (ipykernel)",
   "language": "python",
   "name": "python3"
  },
  "language_info": {
   "codemirror_mode": {
    "name": "ipython",
    "version": 3
   },
   "file_extension": ".py",
   "mimetype": "text/x-python",
   "name": "python",
   "nbconvert_exporter": "python",
   "pygments_lexer": "ipython3",
   "version": "3.8.12"
  }
 },
 "nbformat": 4,
 "nbformat_minor": 5
}
