{
 "cells": [
  {
   "cell_type": "markdown",
   "metadata": {},
   "source": [
    "# **PART 4:** Visualizing results"
   ]
  },
  {
   "cell_type": "markdown",
   "metadata": {},
   "source": [
    "For this part, we will use the `ClusterRepertoireVisualization` class from the TCRexplore package. After installing and activating the conda environment, we can import the necessary classes:"
   ]
  },
  {
   "cell_type": "code",
   "execution_count": 1,
   "metadata": {},
   "outputs": [],
   "source": [
    "import pandas as pd\n",
    "import numpy as np\n",
    "\n",
    "from tcrexplore.analysis import Cluster, ClusterRepertoire\n",
    "from tcrexplore.visualization import ClusterRepertoireVisualization"
   ]
  },
  {
   "cell_type": "markdown",
   "metadata": {},
   "source": [
    "## Reading in the data"
   ]
  },
  {
   "cell_type": "markdown",
   "metadata": {},
   "source": [
    "The `ClusterRepertoire` class will contain our data, which can be seen as a collection of `Cluster` objects. This data can be passed manually, but the class also contains useful alternative constructors to read it from a ClusTCR result object, _or a TCRex output file (todo)_."
   ]
  },
  {
   "cell_type": "code",
   "execution_count": null,
   "metadata": {},
   "outputs": [],
   "source": [
    "# TODO \n",
    "ClusterRepertoire.from_tcrex_result()"
   ]
  },
  {
   "cell_type": "markdown",
   "metadata": {},
   "source": [
    "Read in the data manually:"
   ]
  },
  {
   "cell_type": "code",
   "execution_count": 2,
   "metadata": {},
   "outputs": [
    {
     "data": {
      "text/html": [
       "<div>\n",
       "<style scoped>\n",
       "    .dataframe tbody tr th:only-of-type {\n",
       "        vertical-align: middle;\n",
       "    }\n",
       "\n",
       "    .dataframe tbody tr th {\n",
       "        vertical-align: top;\n",
       "    }\n",
       "\n",
       "    .dataframe thead th {\n",
       "        text-align: right;\n",
       "    }\n",
       "</style>\n",
       "<table border=\"1\" class=\"dataframe\">\n",
       "  <thead>\n",
       "    <tr style=\"text-align: right;\">\n",
       "      <th></th>\n",
       "      <th>duplicate_count</th>\n",
       "      <th>frequency</th>\n",
       "      <th>junction_aa</th>\n",
       "      <th>v_call</th>\n",
       "      <th>j_call</th>\n",
       "      <th>cluster</th>\n",
       "      <th>cluster.1</th>\n",
       "      <th>epitope</th>\n",
       "    </tr>\n",
       "  </thead>\n",
       "  <tbody>\n",
       "    <tr>\n",
       "      <th>0</th>\n",
       "      <td>1480.0</td>\n",
       "      <td>0.000769</td>\n",
       "      <td>CASSDRSGGADEQFF</td>\n",
       "      <td>TRBV6-4*00</td>\n",
       "      <td>TRBJ2-1*00</td>\n",
       "      <td>265.0</td>\n",
       "      <td>265.0</td>\n",
       "      <td>NaN</td>\n",
       "    </tr>\n",
       "    <tr>\n",
       "      <th>1</th>\n",
       "      <td>857.0</td>\n",
       "      <td>0.000445</td>\n",
       "      <td>CASSEDPRLQRDEQFF</td>\n",
       "      <td>TRBV6-1*00</td>\n",
       "      <td>TRBJ2-1*00</td>\n",
       "      <td>121.0</td>\n",
       "      <td>121.0</td>\n",
       "      <td>NaN</td>\n",
       "    </tr>\n",
       "    <tr>\n",
       "      <th>2</th>\n",
       "      <td>687.0</td>\n",
       "      <td>0.000357</td>\n",
       "      <td>CASSDSPTGAYGYTF</td>\n",
       "      <td>TRBV6-1*00</td>\n",
       "      <td>TRBJ1-2*00</td>\n",
       "      <td>504.0</td>\n",
       "      <td>504.0</td>\n",
       "      <td>NaN</td>\n",
       "    </tr>\n",
       "    <tr>\n",
       "      <th>3</th>\n",
       "      <td>558.0</td>\n",
       "      <td>0.000290</td>\n",
       "      <td>CASSERENTEAFF</td>\n",
       "      <td>TRBV6-4*00</td>\n",
       "      <td>TRBJ1-1*00</td>\n",
       "      <td>613.0</td>\n",
       "      <td>613.0</td>\n",
       "      <td>NaN</td>\n",
       "    </tr>\n",
       "    <tr>\n",
       "      <th>4</th>\n",
       "      <td>3.0</td>\n",
       "      <td>0.000002</td>\n",
       "      <td>CASSERENTEAFF</td>\n",
       "      <td>TRBV6-1*00</td>\n",
       "      <td>TRBJ1-1*00</td>\n",
       "      <td>613.0</td>\n",
       "      <td>613.0</td>\n",
       "      <td>NaN</td>\n",
       "    </tr>\n",
       "  </tbody>\n",
       "</table>\n",
       "</div>"
      ],
      "text/plain": [
       "   duplicate_count  frequency       junction_aa      v_call      j_call  \\\n",
       "0           1480.0   0.000769   CASSDRSGGADEQFF  TRBV6-4*00  TRBJ2-1*00   \n",
       "1            857.0   0.000445  CASSEDPRLQRDEQFF  TRBV6-1*00  TRBJ2-1*00   \n",
       "2            687.0   0.000357   CASSDSPTGAYGYTF  TRBV6-1*00  TRBJ1-2*00   \n",
       "3            558.0   0.000290     CASSERENTEAFF  TRBV6-4*00  TRBJ1-1*00   \n",
       "4              3.0   0.000002     CASSERENTEAFF  TRBV6-1*00  TRBJ1-1*00   \n",
       "\n",
       "   cluster  cluster.1 epitope  \n",
       "0    265.0      265.0     NaN  \n",
       "1    121.0      121.0     NaN  \n",
       "2    504.0      504.0     NaN  \n",
       "3    613.0      613.0     NaN  \n",
       "4    613.0      613.0     NaN  "
      ]
     },
     "execution_count": 2,
     "metadata": {},
     "output_type": "execute_result"
    }
   ],
   "source": [
    "df=pd.read_csv('../data/results/clustcr/P1_15_clusters_tcrex.tsv', sep=\"\\t\")\n",
    "df.head()"
   ]
  },
  {
   "cell_type": "code",
   "execution_count": 15,
   "metadata": {},
   "outputs": [],
   "source": [
    "# a helper function to aggregate epitope information:\n",
    "\n",
    "from typing import Counter, Iterable\n",
    "\n",
    "def agg_epitopes(epitopes:Iterable[str]) -> Counter:\n",
    "    epitopes = [e for e in epitopes if not pd.isna(e)]\n",
    "    if len(epitopes) == 0:\n",
    "        return np.nan\n",
    "    return Counter(epitopes)"
   ]
  },
  {
   "cell_type": "markdown",
   "metadata": {},
   "source": [
    "We group the CDR3 sequences for each ClusTCR cluster:"
   ]
  },
  {
   "cell_type": "code",
   "execution_count": 25,
   "metadata": {},
   "outputs": [
    {
     "data": {
      "text/html": [
       "<div>\n",
       "<style scoped>\n",
       "    .dataframe tbody tr th:only-of-type {\n",
       "        vertical-align: middle;\n",
       "    }\n",
       "\n",
       "    .dataframe tbody tr th {\n",
       "        vertical-align: top;\n",
       "    }\n",
       "\n",
       "    .dataframe thead th {\n",
       "        text-align: right;\n",
       "    }\n",
       "</style>\n",
       "<table border=\"1\" class=\"dataframe\">\n",
       "  <thead>\n",
       "    <tr style=\"text-align: right;\">\n",
       "      <th></th>\n",
       "      <th>junction_aa</th>\n",
       "      <th>epitope</th>\n",
       "      <th>cluster_id</th>\n",
       "      <th>most_common_epitope</th>\n",
       "    </tr>\n",
       "    <tr>\n",
       "      <th>cluster</th>\n",
       "      <th></th>\n",
       "      <th></th>\n",
       "      <th></th>\n",
       "      <th></th>\n",
       "    </tr>\n",
       "  </thead>\n",
       "  <tbody>\n",
       "    <tr>\n",
       "      <th>0.0</th>\n",
       "      <td>{CASSYSPGGALETQYF, CASSYSSGGALETQYF}</td>\n",
       "      <td>NaN</td>\n",
       "      <td>0</td>\n",
       "      <td>NaN</td>\n",
       "    </tr>\n",
       "    <tr>\n",
       "      <th>1.0</th>\n",
       "      <td>{CASSYRGQSLNQPQHF, CASSYRGQGLNQPQHF}</td>\n",
       "      <td>NaN</td>\n",
       "      <td>1</td>\n",
       "      <td>NaN</td>\n",
       "    </tr>\n",
       "    <tr>\n",
       "      <th>2.0</th>\n",
       "      <td>{CASSDSGGSGTDTQYF, CASSDSGGGGTDTQYF, CASSDSGGW...</td>\n",
       "      <td>NaN</td>\n",
       "      <td>2</td>\n",
       "      <td>NaN</td>\n",
       "    </tr>\n",
       "    <tr>\n",
       "      <th>3.0</th>\n",
       "      <td>{CASSYSGTSSYNEQFF, CASSYSGYSSYNEQFF, CASSYLGPP...</td>\n",
       "      <td>NaN</td>\n",
       "      <td>3</td>\n",
       "      <td>NaN</td>\n",
       "    </tr>\n",
       "    <tr>\n",
       "      <th>4.0</th>\n",
       "      <td>{CGSSDSGAGSYNEQFF, CASSDSTSGDYNEQFF, CASSYSGGA...</td>\n",
       "      <td>NaN</td>\n",
       "      <td>4</td>\n",
       "      <td>NaN</td>\n",
       "    </tr>\n",
       "  </tbody>\n",
       "</table>\n",
       "</div>"
      ],
      "text/plain": [
       "                                               junction_aa epitope  \\\n",
       "cluster                                                              \n",
       "0.0                   {CASSYSPGGALETQYF, CASSYSSGGALETQYF}     NaN   \n",
       "1.0                   {CASSYRGQSLNQPQHF, CASSYRGQGLNQPQHF}     NaN   \n",
       "2.0      {CASSDSGGSGTDTQYF, CASSDSGGGGTDTQYF, CASSDSGGW...     NaN   \n",
       "3.0      {CASSYSGTSSYNEQFF, CASSYSGYSSYNEQFF, CASSYLGPP...     NaN   \n",
       "4.0      {CGSSDSGAGSYNEQFF, CASSDSTSGDYNEQFF, CASSYSGGA...     NaN   \n",
       "\n",
       "         cluster_id most_common_epitope  \n",
       "cluster                                  \n",
       "0.0               0                 NaN  \n",
       "1.0               1                 NaN  \n",
       "2.0               2                 NaN  \n",
       "3.0               3                 NaN  \n",
       "4.0               4                 NaN  "
      ]
     },
     "execution_count": 25,
     "metadata": {},
     "output_type": "execute_result"
    }
   ],
   "source": [
    "clusters_df = df.groupby(\"cluster\").agg({\"junction_aa\":set, \"epitope\":agg_epitopes})\n",
    "clusters_df[\"cluster_id\"] = [int(x) for x in clusters_df.index]\n",
    "clusters_df[\"most_common_epitope\"] = clusters_df[\"epitope\"].apply(lambda x : x.most_common()[0][0] if not pd.isna(x) else np.nan)\n",
    "clusters_df.head()"
   ]
  },
  {
   "cell_type": "markdown",
   "metadata": {},
   "source": [
    "... and create the `ClusterRepertoire` object:"
   ]
  },
  {
   "cell_type": "code",
   "execution_count": 5,
   "metadata": {},
   "outputs": [],
   "source": [
    "clusterlist = [\n",
    "        Cluster(sequences=seqs, cluster_id=cid, k=\"all\") \n",
    "        for seqs,cid in zip(clusters_df[\"junction_aa\"], clusters_df[\"cluster_id\"])\n",
    "    ]"
   ]
  },
  {
   "cell_type": "code",
   "execution_count": 13,
   "metadata": {},
   "outputs": [],
   "source": [
    "c_rep = ClusterRepertoire(clusterlist)"
   ]
  },
  {
   "cell_type": "markdown",
   "metadata": {},
   "source": [
    "## Visualize!\n",
    "\n",
    "After these preprocessing steps, we can start exploring our data. Let's first see if there are any TCR clusters enriched for epitope X"
   ]
  },
  {
   "cell_type": "markdown",
   "metadata": {},
   "source": [
    "A motif logo of cluster CDR3 sequences can easily be plotted from its `Cluster` object:"
   ]
  },
  {
   "cell_type": "code",
   "execution_count": 33,
   "metadata": {},
   "outputs": [
    {
     "data": {
      "image/png": "[encoded data removed]",
      "text/plain": [
       "<Figure size 800x100 with 1 Axes>"
      ]
     },
     "execution_count": 33,
     "metadata": {},
     "output_type": "execute_result"
    }
   ],
   "source": [
    "# get a cluster from the repertoire by id using .get:\n",
    "c = c_rep.get(5000)\n",
    "\n",
    "# plot\n",
    "c.plot_motif_logo()"
   ]
  },
  {
   "cell_type": "markdown",
   "metadata": {},
   "source": [
    "By default, the letter height corresponds to the relative frequencies of this\n",
    "amino acid at each position in the cluster. \n",
    "\n",
    "By passing `method = 'information'`, the letter height is determined by the\n",
    "self-information of an AA compared to a large synthetic background of sequences.\n",
    "This can be interpreted as \"how surprising is this AA on this position, on\n",
    "average?\". "
   ]
  },
  {
   "cell_type": "code",
   "execution_count": 36,
   "metadata": {},
   "outputs": [
    {
     "data": {
      "image/png": "[encoded data removed]",
      "text/plain": [
       "<Figure size 800x100 with 1 Axes>"
      ]
     },
     "execution_count": 36,
     "metadata": {},
     "output_type": "execute_result"
    }
   ],
   "source": [
    "# get a cluster from the repertoire by id using .get:\n",
    "c = c_rep.get(5000)\n",
    "\n",
    "# plot\n",
    "c.plot_motif_logo(method=\"information\")"
   ]
  },
  {
   "cell_type": "markdown",
   "metadata": {},
   "source": [
    "Other color schemes are available, their names can be found [here](https://logomaker.readthedocs.io/en/latest/examples.html#color-schemes)."
   ]
  },
  {
   "cell_type": "code",
   "execution_count": 40,
   "metadata": {},
   "outputs": [
    {
     "data": {
      "image/png": "[encoded data removed]",
      "text/plain": [
       "<Figure size 800x100 with 1 Axes>"
      ]
     },
     "execution_count": 40,
     "metadata": {},
     "output_type": "execute_result"
    }
   ],
   "source": [
    "# get a cluster from the repertoire by id using .get:\n",
    "c = c_rep.get(5000)\n",
    "\n",
    "# plot\n",
    "c.plot_motif_logo(color_scheme=\"hydrophobicity\")"
   ]
  }
 ],
 "metadata": {
  "kernelspec": {
   "display_name": "Python 3.8.13 ('tcrexplore')",
   "language": "python",
   "name": "python3"
  },
  "language_info": {
   "codemirror_mode": {
    "name": "ipython",
    "version": 3
   },
   "file_extension": ".py",
   "mimetype": "text/x-python",
   "name": "python",
   "nbconvert_exporter": "python",
   "pygments_lexer": "ipython3",
   "version": "3.9.13"
  },
  "orig_nbformat": 4,
  "vscode": {
   "interpreter": {
    "hash": "980f7d54a6a3b3c5d1fa0315737d4c4dbe0a6586789ce7b5f9fac643edca0b67"
   }
  }
 },
 "nbformat": 4,
 "nbformat_minor": 2
}
