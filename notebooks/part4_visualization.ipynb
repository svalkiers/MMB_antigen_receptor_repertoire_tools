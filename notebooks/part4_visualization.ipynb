{
 "cells": [
  {
   "cell_type": "markdown",
   "metadata": {},
   "source": [
    "# **PART 4:** Visualizing results"
   ]
  },
  {
   "cell_type": "markdown",
   "metadata": {},
   "source": [
    "For this part, we will use the `ClusterRepertoireVisualization` class from the TCRexplore package. After installing and activating the conda environment, we can import the necessary classes:"
   ]
  },
  {
   "cell_type": "code",
   "execution_count": 1,
   "metadata": {},
   "outputs": [],
   "source": [
    "from tcrexplore.analysis import ClusterRepertoire\n",
    "from tcrexplore.visualization import ClusterRepertoireVisualization"
   ]
  },
  {
   "cell_type": "markdown",
   "metadata": {},
   "source": [
    "## Reading in the data"
   ]
  },
  {
   "cell_type": "markdown",
   "metadata": {},
   "source": [
    "The `ClusterRepertoire` class contains the data, and can be seen as a collection of cluster objects. This data can be passed manually, but the class also contains useful alternative constructors to read it from a ClusTCR result object, or a TCRex output file."
   ]
  },
  {
   "cell_type": "code",
   "execution_count": null,
   "metadata": {},
   "outputs": [],
   "source": [
    "ClusterRepertoire.from_clustcr_result()"
   ]
  },
  {
   "cell_type": "code",
   "execution_count": null,
   "metadata": {},
   "outputs": [],
   "source": [
    "# TODO \n",
    "ClusterRepertoire.from_tcrex_result()"
   ]
  },
  {
   "cell_type": "code",
   "execution_count": 3,
   "metadata": {},
   "outputs": [],
   "source": [
    "# read in the data manually:\n",
    "\n",
    "# TCRex/ClusTCR output file Sebastiaan"
   ]
  }
 ],
 "metadata": {
  "kernelspec": {
   "display_name": "Python 3.8.13 ('tcrexplore')",
   "language": "python",
   "name": "python3"
  },
  "language_info": {
   "codemirror_mode": {
    "name": "ipython",
    "version": 3
   },
   "file_extension": ".py",
   "mimetype": "text/x-python",
   "name": "python",
   "nbconvert_exporter": "python",
   "pygments_lexer": "ipython3",
   "version": "3.9.13"
  },
  "orig_nbformat": 4,
  "vscode": {
   "interpreter": {
    "hash": "980f7d54a6a3b3c5d1fa0315737d4c4dbe0a6586789ce7b5f9fac643edca0b67"
   }
  }
 },
 "nbformat": 4,
 "nbformat_minor": 2
}
